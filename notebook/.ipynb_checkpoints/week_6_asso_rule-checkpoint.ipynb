{
 "cells": [
  {
   "cell_type": "code",
   "execution_count": 1,
   "metadata": {},
   "outputs": [],
   "source": [
    "import pandas as pd "
   ]
  },
  {
   "cell_type": "code",
   "execution_count": 16,
   "metadata": {},
   "outputs": [],
   "source": [
    "def assoc_rules(df, idx, var):\n",
    "    df_gbs_sup = df.groupby(['items']).size().reset_index()\n",
    "    support = str(float(df_gbs_sup[df_gbs_sup['items']==var[0]][0] / len(df[idx].unique())))\n",
    "    \n",
    "    a = df[df['items'].isin(var)][idx].unique().shape[0] \n",
    "    b = df[df['items'].isin([var[1]])][idx].unique().shape[0]\n",
    "    confidence = b/ a\n",
    "\n",
    "    \n",
    "    return {'support' : support,'confidence':confidence}"
   ]
  },
  {
   "cell_type": "code",
   "execution_count": 17,
   "metadata": {},
   "outputs": [],
   "source": [
    "df = pd.DataFrame(\n",
    "[\n",
    "    {\"id\" :1, \"items\":[\"A\",\"B\",\"C\",\"D\"]},\n",
    "    {\"id\" :2, \"items\":[\"A\",\"C\"]},\n",
    "    {\"id\" :3, \"items\":[\"A\",\"D\"]},\n",
    "    {\"id\" :4, \"items\":[\"B\",\"E\",\"F\"]}\n",
    "\n",
    "]\n",
    ")"
   ]
  },
  {
   "cell_type": "code",
   "execution_count": 18,
   "metadata": {},
   "outputs": [],
   "source": [
    "df = df.explode('items')"
   ]
  },
  {
   "cell_type": "code",
   "execution_count": 19,
   "metadata": {},
   "outputs": [
    {
     "data": {
      "text/plain": [
       "{'support': '0.75', 'confidence': 0.6666666666666666}"
      ]
     },
     "execution_count": 19,
     "metadata": {},
     "output_type": "execute_result"
    }
   ],
   "source": [
    "assoc_rules(df, idx='id', var = ['A','C'])"
   ]
  },
  {
   "cell_type": "code",
   "execution_count": 10,
   "metadata": {},
   "outputs": [
    {
     "data": {
      "text/plain": [
       "3"
      ]
     },
     "execution_count": 10,
     "metadata": {},
     "output_type": "execute_result"
    }
   ],
   "source": [
    "var = ['A','C']\n",
    "df[df['items'].isin(var)]['id'].unique().shape[0]\n",
    "# df[df['items'].isin('A')]['id'].unique().shape[0]"
   ]
  },
  {
   "cell_type": "code",
   "execution_count": null,
   "metadata": {},
   "outputs": [],
   "source": []
  }
 ],
 "metadata": {
  "kernelspec": {
   "display_name": "Python 3",
   "language": "python",
   "name": "python3"
  },
  "language_info": {
   "codemirror_mode": {
    "name": "ipython",
    "version": 3
   },
   "file_extension": ".py",
   "mimetype": "text/x-python",
   "name": "python",
   "nbconvert_exporter": "python",
   "pygments_lexer": "ipython3",
   "version": "3.6.9"
  }
 },
 "nbformat": 4,
 "nbformat_minor": 4
}
