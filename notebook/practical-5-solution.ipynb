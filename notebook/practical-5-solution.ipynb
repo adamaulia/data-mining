{
 "cells": [
  {
   "cell_type": "markdown",
   "id": "c8ca3c5e",
   "metadata": {},
   "source": [
    "## Practical 5\n",
    "\n",
    "In this practical, we will focus on conducting reproducible and robust research. We will piece together most parts of the knowledge we have gathered in the course. Therefore, this practical can be seen as writing a mini-thesis, or at the very least a proposal for one. Please note that these are by no means strict guidelines, and they only scratch the surface. We hope you find that it will feature some useful tips and tricks you will be able to apply in the future (like all prior notebooks). Unlike the previous practicals, there will not be tasks leading to questions for you to answer."
   ]
  },
  {
   "cell_type": "markdown",
   "id": "b2c42626",
   "metadata": {},
   "source": [
    "### The initial idea\n",
    "\n",
    "The motivation of the exercises of this notebook is based on the DeepMoji model, a sentiment classifier. In particular, we will collect the same type of data, train a sentiment classifier, and see if the techniques they use can generalize to different data (i.e., to a different domain).\n",
    "\n",
    "It should be mentioned that DeepMoji was trained on Tweets, so we will test if it can also predict the sentiment of Yelp (restaurant) reviews. For a technique to be a ‘general’ sentiment predictor, it should work on these reviews. This contribution is our scientific relevance. Then, what is the societal relevance? Sentiment analysis has a broad application in marketing, social sciences, crisis analyses, etc. \n",
    "\n",
    "Therefore, our proposal will also include simple models, explainable models, which we can compare to the DeepMoji.\n",
    "\n",
    "This brings us to the research question(s):\n",
    "- To what extent can we reproduce the DeepMoji paper?\n",
    "- How closely can we match performance with a new dataset?\n",
    "- Do simple classifiers achieve comparable performance?\n",
    "- Does our model generalize to a different domain?"
   ]
  },
  {
   "cell_type": "markdown",
   "id": "3b810a28",
   "metadata": {},
   "source": [
    "### Data\n",
    "Note: We have already gathered the data for this practical and you do not have to execute the following code. This part is for information only.\n",
    "\n",
    "We start by setting up the collection of data from Twitter. The Twitter API allows you to access part of their data after  registering for keys in this link:\n",
    "https://developer.twitter.com/en\n",
    "(Twitter account required). \n",
    "\n",
    "We use ``tweepy``, you can see more info on https://cmry.github.io/notes/twitter-python). As such:\n",
    "\n",
    "```\n",
    "import tweepy\n",
    "\n",
    "auth = tweepy.OAuthHandler(\"XXXX\", \"XXXX\")\n",
    "auth.set_access_token(\"XXXX\", \"XXXX\")\n",
    "api = tweepy.API(auth)\n",
    "```\n",
    "\n",
    "The \"XXXX\" parts are where your own keys should go after you register. We then have this piece of code for retrieval:\n",
    "\n",
    "```\n",
    "from time import sleep\n",
    "\n",
    "for n_queries in range(120):\n",
    "\n",
    "    with open('emoji-data.txt', 'a') as of:\n",
    "        emoji_dict = {\"🙂\": \"happy\", \"🙁\": \"sad\", \"😠\": \"angry\", \"❤️\": \"love\"}\n",
    "        for emoji, label in emoji_dict.items():\n",
    "            for tweet in api.search(emoji, lang=\"en\", include_entities=False):\n",
    "                jsf = tweet._json\n",
    "                jsf.pop('metadata')\n",
    "                jsf.pop('user')\n",
    "                try:\n",
    "                    jsf.pop('entities')\n",
    "                except:\n",
    "                    pass\n",
    "                of.write(label + \" | \" + str(jsf) + \"\\n\")\n",
    "        sleep(30)\n",
    "```\n",
    "\n",
    "**Code explained.** The dictionary keys contain emojis. First, we perform 120 queries and append them to our data file (notice that we can restart the code and keep collecting). Per emoji in our dictionary, we launch a separate query (api.search), restrict the language to English, and do not include a bunch of extra information. Next, we remove some additional stuff from the JSON for each tweet in the retrieved data and then write the return object plus our label to file. Finally, we need to wait 30 seconds between each query."
   ]
  },
  {
   "cell_type": "markdown",
   "id": "ddb7cd71",
   "metadata": {},
   "source": [
    "#### Testing our Data\n",
    "A logical first step before anything else would be to see if the models trained on our data work. If we can’t predict emojis (or sentiment, rather) for a test set with other Tweets, we cannot really hope to perform well on a benchmark set, let alone out-of-domain data. The collected is provided with this notebook. The data is stored in a ``<label> | <JSON_file>`` format, which we first have to split. This will give us a line as shown below:"
   ]
  },
  {
   "cell_type": "code",
   "execution_count": 1,
   "id": "0371ef26",
   "metadata": {},
   "outputs": [
    {
     "data": {
      "text/plain": [
       "'happy | {\\'created_at\\': \\'Sat Oct 10 22:33:51 +0000 2020\\', \\'id\\': 1315057988470743041, \\'id_str\\': \\'1315057988470743041\\', \\'text\\': \\'@melemel2012 @JackPosobiec Great parenting 😊\\', \\'truncated\\': False, \\'source\\': \\'<a href=\"http://twitter.com/download/iphone\" rel=\"nofollow\">Twitter for iPhone</a>\\', \\'in_reply_to_status_id\\': 1314987700018130944, \\'in_reply_to_status_id_str\\': \\'1314987700018130944\\', \\'in_reply_to_user_id\\': 412322037, \\'in_reply_to_user_id_str\\': \\'412322037\\', \\'in_reply_to_screen_name\\': \\'melemel2012\\', \\'geo\\': None, \\'coordinates\\': None, \\'place\\': None, \\'contributors\\': None, \\'is_quote_status\\': False, \\'retweet_count\\': 0, \\'favorite_count\\': 0, \\'favorited\\': False, \\'retweeted\\': False, \\'lang\\': \\'en\\'}'"
      ]
     },
     "execution_count": 1,
     "metadata": {},
     "output_type": "execute_result"
    }
   ],
   "source": [
    "data_dir = 'research/'\n",
    "open(data_dir + 'emoji-data.txt', encoding=\"utf8\").read().split('\\n')[0]"
   ]
  },
  {
   "cell_type": "markdown",
   "id": "2ab9be4b",
   "metadata": {},
   "source": [
    "**Important note.** We have added the parameter `encoding=\"utf8\"` to read this file properly in Python 3, otherwise we might get a encoding error and we could not continue. The next line splits the label and the JSON in a list:"
   ]
  },
  {
   "cell_type": "code",
   "execution_count": 2,
   "id": "45672589",
   "metadata": {},
   "outputs": [
    {
     "data": {
      "text/plain": [
       "['happy ',\n",
       " ' {\\'created_at\\': \\'Sat Oct 10 22:33:51 +0000 2020\\', \\'id\\': 1315057988470743041, \\'id_str\\': \\'1315057988470743041\\', \\'text\\': \\'@melemel2012 @JackPosobiec Great parenting 😊\\', \\'truncated\\': False, \\'source\\': \\'<a href=\"http://twitter.com/download/iphone\" rel=\"nofollow\">Twitter for iPhone</a>\\', \\'in_reply_to_status_id\\': 1314987700018130944, \\'in_reply_to_status_id_str\\': \\'1314987700018130944\\', \\'in_reply_to_user_id\\': 412322037, \\'in_reply_to_user_id_str\\': \\'412322037\\', \\'in_reply_to_screen_name\\': \\'melemel2012\\', \\'geo\\': None, \\'coordinates\\': None, \\'place\\': None, \\'contributors\\': None, \\'is_quote_status\\': False, \\'retweet_count\\': 0, \\'favorite_count\\': 0, \\'favorited\\': False, \\'retweeted\\': False, \\'lang\\': \\'en\\'}']"
      ]
     },
     "execution_count": 2,
     "metadata": {},
     "output_type": "execute_result"
    }
   ],
   "source": [
    "open(data_dir + 'emoji-data.txt', encoding=\"utf8\").read().split('\\n')[0].split('|')"
   ]
  },
  {
   "cell_type": "markdown",
   "id": "eb2bf4c2",
   "metadata": {},
   "source": [
    "If we select the first element, we can see the JSON. As it was not saved before, we have to use `eval()` to convert it back to a JSON / dictionary format and visualize it in the form of dictionary as visualized below:"
   ]
  },
  {
   "cell_type": "code",
   "execution_count": 3,
   "id": "02a7e3cf",
   "metadata": {},
   "outputs": [
    {
     "data": {
      "text/plain": [
       "{'created_at': 'Sat Oct 10 22:33:51 +0000 2020',\n",
       " 'id': 1315057988470743041,\n",
       " 'id_str': '1315057988470743041',\n",
       " 'text': '@melemel2012 @JackPosobiec Great parenting 😊',\n",
       " 'truncated': False,\n",
       " 'source': '<a href=\"http://twitter.com/download/iphone\" rel=\"nofollow\">Twitter for iPhone</a>',\n",
       " 'in_reply_to_status_id': 1314987700018130944,\n",
       " 'in_reply_to_status_id_str': '1314987700018130944',\n",
       " 'in_reply_to_user_id': 412322037,\n",
       " 'in_reply_to_user_id_str': '412322037',\n",
       " 'in_reply_to_screen_name': 'melemel2012',\n",
       " 'geo': None,\n",
       " 'coordinates': None,\n",
       " 'place': None,\n",
       " 'contributors': None,\n",
       " 'is_quote_status': False,\n",
       " 'retweet_count': 0,\n",
       " 'favorite_count': 0,\n",
       " 'favorited': False,\n",
       " 'retweeted': False,\n",
       " 'lang': 'en'}"
      ]
     },
     "execution_count": 3,
     "metadata": {},
     "output_type": "execute_result"
    }
   ],
   "source": [
    "eval(open(data_dir + 'emoji-data.txt', encoding=\"utf8\").read().split('\\n')[0].split('|')[1])"
   ]
  },
  {
   "cell_type": "markdown",
   "id": "0910ba94",
   "metadata": {},
   "source": [
    "Given the latter output, you can see that we have a bunch of extra information that came with the Twitter API, such as the date, the number of likes, retweets, the geolocation (if provided), and the text of the tweet itself. Next, we essentially apply the operations above (splitting the lines, evaluating the JSON part) but then append them to two lists (one for text and one for labels). These are at the end stored in a DataFrame."
   ]
  },
  {
   "cell_type": "code",
   "execution_count": 4,
   "id": "d0d32a6e",
   "metadata": {},
   "outputs": [],
   "source": [
    "text, labels = [], []\n",
    "for line in open(data_dir + 'emoji-data.txt', encoding=\"utf8\").read().split('\\n'):\n",
    "    try:\n",
    "        label, jsonf = line.split(' | ')\n",
    "        text.append(eval(jsonf)['text'])\n",
    "        labels.append(label)\n",
    "    except:\n",
    "        continue"
   ]
  },
  {
   "cell_type": "code",
   "execution_count": 5,
   "id": "1a807182",
   "metadata": {},
   "outputs": [
    {
     "data": {
      "text/html": [
       "<div>\n",
       "<style scoped>\n",
       "    .dataframe tbody tr th:only-of-type {\n",
       "        vertical-align: middle;\n",
       "    }\n",
       "\n",
       "    .dataframe tbody tr th {\n",
       "        vertical-align: top;\n",
       "    }\n",
       "\n",
       "    .dataframe thead th {\n",
       "        text-align: right;\n",
       "    }\n",
       "</style>\n",
       "<table border=\"1\" class=\"dataframe\">\n",
       "  <thead>\n",
       "    <tr style=\"text-align: right;\">\n",
       "      <th></th>\n",
       "      <th>text</th>\n",
       "      <th>labels</th>\n",
       "    </tr>\n",
       "  </thead>\n",
       "  <tbody>\n",
       "    <tr>\n",
       "      <th>0</th>\n",
       "      <td>@melemel2012 @JackPosobiec Great parenting 😊</td>\n",
       "      <td>happy</td>\n",
       "    </tr>\n",
       "    <tr>\n",
       "      <th>1</th>\n",
       "      <td>RT @copter_chief: .@realDonaldTrump Once AG Ba...</td>\n",
       "      <td>happy</td>\n",
       "    </tr>\n",
       "    <tr>\n",
       "      <th>2</th>\n",
       "      <td>@mummybunz21 @shawneda @TheSims @TheSimCommuni...</td>\n",
       "      <td>happy</td>\n",
       "    </tr>\n",
       "    <tr>\n",
       "      <th>3</th>\n",
       "      <td>RT @JSimoncavage: I know I'm cute and this is ...</td>\n",
       "      <td>happy</td>\n",
       "    </tr>\n",
       "    <tr>\n",
       "      <th>4</th>\n",
       "      <td>RT @GoldenTreeCIC: Repeat daily and develop a ...</td>\n",
       "      <td>happy</td>\n",
       "    </tr>\n",
       "  </tbody>\n",
       "</table>\n",
       "</div>"
      ],
      "text/plain": [
       "                                                text labels\n",
       "0       @melemel2012 @JackPosobiec Great parenting 😊  happy\n",
       "1  RT @copter_chief: .@realDonaldTrump Once AG Ba...  happy\n",
       "2  @mummybunz21 @shawneda @TheSims @TheSimCommuni...  happy\n",
       "3  RT @JSimoncavage: I know I'm cute and this is ...  happy\n",
       "4  RT @GoldenTreeCIC: Repeat daily and develop a ...  happy"
      ]
     },
     "execution_count": 5,
     "metadata": {},
     "output_type": "execute_result"
    }
   ],
   "source": [
    "import pandas as pd\n",
    "\n",
    "df = pd.DataFrame({'text': text, 'labels': labels})\n",
    "df.head()"
   ]
  },
  {
   "cell_type": "markdown",
   "id": "aa835bb0",
   "metadata": {},
   "source": [
    "To save memory, we are going to delete our text and label variables, as they are in the DataFrame now anyways:"
   ]
  },
  {
   "cell_type": "code",
   "execution_count": 6,
   "id": "c58c9000",
   "metadata": {},
   "outputs": [],
   "source": [
    "del text, labels"
   ]
  },
  {
   "cell_type": "markdown",
   "id": "1424befe",
   "metadata": {},
   "source": [
    "Let’s see what labels we have:"
   ]
  },
  {
   "cell_type": "code",
   "execution_count": 7,
   "id": "8ac5b1ea",
   "metadata": {},
   "outputs": [
    {
     "data": {
      "text/plain": [
       "<AxesSubplot:>"
      ]
     },
     "execution_count": 7,
     "metadata": {},
     "output_type": "execute_result"
    },
    {
     "data": {
      "image/png": "[encoded data removed]",
      "text/plain": [
       "<Figure size 432x288 with 1 Axes>"
      ]
     },
     "metadata": {
      "needs_background": "light"
     },
     "output_type": "display_data"
    }
   ],
   "source": [
    "plot = df.labels.hist()"
   ]
  },
  {
   "cell_type": "markdown",
   "id": "9601055d",
   "metadata": {},
   "source": [
    "You will notice that these are all nicely distributed (this happens because the data was collected that way). Now, we could go through the effort of fitting a classifier we the data we have and confirm that the prediction performances on the test are pretty low.\n",
    "\n",
    "However, this time we will spoil the problem immediately: there are duplicate tweets in this dataset. \n",
    "\n",
    "Generally, that means that the classifier will overfit these particular tweets, and therefore perform poorly on others. Moreover, another issue is that our data is not that big (one hour's worth of data is not much). For completeness, we will go through solving the duplicates issue and assessing the evaluation scores. First, we want to drop the overlapping tweets, which we can do with Pandas:"
   ]
  },
  {
   "cell_type": "code",
   "execution_count": 8,
   "id": "a0a3d5ef",
   "metadata": {},
   "outputs": [
    {
     "name": "stdout",
     "output_type": "stream",
     "text": [
      "13070\n",
      "5922\n"
     ]
    }
   ],
   "source": [
    "print(len(df))\n",
    "df.drop_duplicates(subset=['text'], inplace=True)\n",
    "print(len(df))"
   ]
  },
  {
   "cell_type": "markdown",
   "id": "c8826d62",
   "metadata": {},
   "source": [
    "Note that subset is used to indicate the column where we want to detect the duplicates, and we print the length of the DataFrame before and after dropping. Now we convert the different emojis to positive and negative sentiment:"
   ]
  },
  {
   "cell_type": "code",
   "execution_count": 9,
   "id": "44dafbf1",
   "metadata": {},
   "outputs": [
    {
     "data": {
      "text/html": [
       "<div>\n",
       "<style scoped>\n",
       "    .dataframe tbody tr th:only-of-type {\n",
       "        vertical-align: middle;\n",
       "    }\n",
       "\n",
       "    .dataframe tbody tr th {\n",
       "        vertical-align: top;\n",
       "    }\n",
       "\n",
       "    .dataframe thead th {\n",
       "        text-align: right;\n",
       "    }\n",
       "</style>\n",
       "<table border=\"1\" class=\"dataframe\">\n",
       "  <thead>\n",
       "    <tr style=\"text-align: right;\">\n",
       "      <th></th>\n",
       "      <th>text</th>\n",
       "      <th>labels</th>\n",
       "    </tr>\n",
       "  </thead>\n",
       "  <tbody>\n",
       "    <tr>\n",
       "      <th>0</th>\n",
       "      <td>@melemel2012 @JackPosobiec Great parenting 😊</td>\n",
       "      <td>1</td>\n",
       "    </tr>\n",
       "    <tr>\n",
       "      <th>1</th>\n",
       "      <td>RT @copter_chief: .@realDonaldTrump Once AG Ba...</td>\n",
       "      <td>1</td>\n",
       "    </tr>\n",
       "    <tr>\n",
       "      <th>2</th>\n",
       "      <td>@mummybunz21 @shawneda @TheSims @TheSimCommuni...</td>\n",
       "      <td>1</td>\n",
       "    </tr>\n",
       "    <tr>\n",
       "      <th>3</th>\n",
       "      <td>RT @JSimoncavage: I know I'm cute and this is ...</td>\n",
       "      <td>1</td>\n",
       "    </tr>\n",
       "    <tr>\n",
       "      <th>4</th>\n",
       "      <td>RT @GoldenTreeCIC: Repeat daily and develop a ...</td>\n",
       "      <td>1</td>\n",
       "    </tr>\n",
       "  </tbody>\n",
       "</table>\n",
       "</div>"
      ],
      "text/plain": [
       "                                                text  labels\n",
       "0       @melemel2012 @JackPosobiec Great parenting 😊       1\n",
       "1  RT @copter_chief: .@realDonaldTrump Once AG Ba...       1\n",
       "2  @mummybunz21 @shawneda @TheSims @TheSimCommuni...       1\n",
       "3  RT @JSimoncavage: I know I'm cute and this is ...       1\n",
       "4  RT @GoldenTreeCIC: Repeat daily and develop a ...       1"
      ]
     },
     "execution_count": 9,
     "metadata": {},
     "output_type": "execute_result"
    }
   ],
   "source": [
    "df.replace({\"labels\": {'happy': 1, 'sad': 0, 'angry': 0, 'love': 1}}, inplace=True)\n",
    "df.head()"
   ]
  },
  {
   "cell_type": "markdown",
   "id": "c2ea4ea1",
   "metadata": {},
   "source": [
    "Next, we divide our data in two hold-out splits:"
   ]
  },
  {
   "cell_type": "code",
   "execution_count": 10,
   "id": "3fd28e91",
   "metadata": {},
   "outputs": [],
   "source": [
    "from sklearn.model_selection import train_test_split\n",
    "X_train, X_test, y_train, y_test = \\\n",
    "train_test_split(df.text, df.labels, stratify=df.labels, random_state=42)"
   ]
  },
  {
   "cell_type": "markdown",
   "id": "99f13d69",
   "metadata": {},
   "source": [
    "There are two important things to be discussed here. The first one is stratifying based on the label distribution and the second one is setting a seed with ``random_state``. The latter is important for reproducibility; ``scikit-learn`` by default randomly shuffles the data (to avoid the order playing a part in the predictions). To make sure that it is the same random shuffle every time, we provide a seed. Now we can run our classifier:"
   ]
  },
  {
   "cell_type": "code",
   "execution_count": 11,
   "id": "f7ff6510",
   "metadata": {},
   "outputs": [],
   "source": [
    "from sklearn.feature_extraction.text import TfidfVectorizer\n",
    "\n",
    "cv = TfidfVectorizer()\n",
    "Xf_train = cv.fit_transform(X_train)"
   ]
  },
  {
   "cell_type": "code",
   "execution_count": 12,
   "id": "b8fbebf8",
   "metadata": {},
   "outputs": [
    {
     "data": {
      "text/plain": [
       "LogisticRegression(max_iter=1000, random_state=42)"
      ]
     },
     "execution_count": 12,
     "metadata": {},
     "output_type": "execute_result"
    }
   ],
   "source": [
    "from sklearn.linear_model import LogisticRegression\n",
    "\n",
    "lr = LogisticRegression(max_iter=1000, random_state=42)\n",
    "lr.fit(Xf_train, y_train)"
   ]
  },
  {
   "cell_type": "markdown",
   "id": "88e76029",
   "metadata": {},
   "source": [
    "Notice that we again have a seed, this time for our Logistic Regression model, as we need to fix the randomness in the solver. Always check the documentation if there is a seed possibility somewhere. Even numpy has a seed. Now we check performance:"
   ]
  },
  {
   "cell_type": "code",
   "execution_count": 13,
   "id": "3aa59da5",
   "metadata": {},
   "outputs": [
    {
     "name": "stdout",
     "output_type": "stream",
     "text": [
      "              precision    recall  f1-score   support\n",
      "\n",
      "           0       0.68      0.45      0.54       530\n",
      "           1       0.74      0.88      0.81       951\n",
      "\n",
      "    accuracy                           0.73      1481\n",
      "   macro avg       0.71      0.67      0.67      1481\n",
      "weighted avg       0.72      0.73      0.71      1481\n",
      "\n"
     ]
    }
   ],
   "source": [
    "from sklearn.metrics import classification_report\n",
    "y_pred = lr.predict(cv.transform(X_test))\n",
    "print(classification_report(y_test, y_pred))"
   ]
  },
  {
   "cell_type": "markdown",
   "id": "e247947c",
   "metadata": {},
   "source": [
    "Here we can see Precision, Recall, Accuracy, F1 score, class frequencies, everything. These figures are meaningless without a baseline, so let’s use a majority one, predicting 1 for all instances:"
   ]
  },
  {
   "cell_type": "code",
   "execution_count": 17,
   "id": "da50f55f",
   "metadata": {},
   "outputs": [
    {
     "name": "stdout",
     "output_type": "stream",
     "text": [
      "              precision    recall  f1-score   support\n",
      "\n",
      "           0       0.00      0.00      0.00       530\n",
      "           1       0.64      1.00      0.78       951\n",
      "\n",
      "    accuracy                           0.64      1481\n",
      "   macro avg       0.32      0.50      0.39      1481\n",
      "weighted avg       0.41      0.64      0.50      1481\n",
      "\n"
     ]
    },
    {
     "name": "stderr",
     "output_type": "stream",
     "text": [
      "C:\\Users\\20214772\\Anaconda3\\lib\\site-packages\\sklearn\\metrics\\_classification.py:1245: UndefinedMetricWarning: Precision and F-score are ill-defined and being set to 0.0 in labels with no predicted samples. Use `zero_division` parameter to control this behavior.\n",
      "  _warn_prf(average, modifier, msg_start, len(result))\n",
      "C:\\Users\\20214772\\Anaconda3\\lib\\site-packages\\sklearn\\metrics\\_classification.py:1245: UndefinedMetricWarning: Precision and F-score are ill-defined and being set to 0.0 in labels with no predicted samples. Use `zero_division` parameter to control this behavior.\n",
      "  _warn_prf(average, modifier, msg_start, len(result))\n",
      "C:\\Users\\20214772\\Anaconda3\\lib\\site-packages\\sklearn\\metrics\\_classification.py:1245: UndefinedMetricWarning: Precision and F-score are ill-defined and being set to 0.0 in labels with no predicted samples. Use `zero_division` parameter to control this behavior.\n",
      "  _warn_prf(average, modifier, msg_start, len(result))\n"
     ]
    }
   ],
   "source": [
    "print(classification_report(y_test, len(y_pred) * [1]))"
   ]
  },
  {
   "cell_type": "markdown",
   "id": "651c350f",
   "metadata": {},
   "source": [
    "Note that we replaced the actual predictions with a list having the length of the dataset instances. You are encouraged to try other classifiers, but as you can see, the performance is pretty bad. The performance can undoubtedly be improved with more data collection, but we will decide that we can not currently reproduce the data collection method for this practical. Therefore, we will focus on this benchmark data —as that is also Twitter— and see if we can use simple models to predict Yelp reviews. \n",
    "This would at least give us some indication of the Emoji idea is worth pursuing.\n",
    "\n",
    "#### Preparing the out-of-domain Data\n",
    "\n",
    "The out-of-domain (meaning it is a different domain than the data of interest) data was gathered from Kaggle. As we can see, it contains a few labels in addition to the review score, but we’re only interested in the latter."
   ]
  },
  {
   "cell_type": "code",
   "execution_count": 18,
   "id": "5a25bf54",
   "metadata": {},
   "outputs": [
    {
     "data": {
      "text/html": [
       "<div>\n",
       "<style scoped>\n",
       "    .dataframe tbody tr th:only-of-type {\n",
       "        vertical-align: middle;\n",
       "    }\n",
       "\n",
       "    .dataframe tbody tr th {\n",
       "        vertical-align: top;\n",
       "    }\n",
       "\n",
       "    .dataframe thead th {\n",
       "        text-align: right;\n",
       "    }\n",
       "</style>\n",
       "<table border=\"1\" class=\"dataframe\">\n",
       "  <thead>\n",
       "    <tr style=\"text-align: right;\">\n",
       "      <th></th>\n",
       "      <th>business_id</th>\n",
       "      <th>date</th>\n",
       "      <th>review_id</th>\n",
       "      <th>stars</th>\n",
       "      <th>text</th>\n",
       "      <th>type</th>\n",
       "      <th>user_id</th>\n",
       "      <th>cool</th>\n",
       "      <th>useful</th>\n",
       "      <th>funny</th>\n",
       "    </tr>\n",
       "  </thead>\n",
       "  <tbody>\n",
       "    <tr>\n",
       "      <th>0</th>\n",
       "      <td>9yKzy9PApeiPPOUJEtnvkg</td>\n",
       "      <td>2011-01-26</td>\n",
       "      <td>fWKvX83p0-ka4JS3dc6E5A</td>\n",
       "      <td>5</td>\n",
       "      <td>My wife took me here on my birthday for breakf...</td>\n",
       "      <td>review</td>\n",
       "      <td>rLtl8ZkDX5vH5nAx9C3q5Q</td>\n",
       "      <td>2</td>\n",
       "      <td>5</td>\n",
       "      <td>0</td>\n",
       "    </tr>\n",
       "    <tr>\n",
       "      <th>1</th>\n",
       "      <td>ZRJwVLyzEJq1VAihDhYiow</td>\n",
       "      <td>2011-07-27</td>\n",
       "      <td>IjZ33sJrzXqU-0X6U8NwyA</td>\n",
       "      <td>5</td>\n",
       "      <td>I have no idea why some people give bad review...</td>\n",
       "      <td>review</td>\n",
       "      <td>0a2KyEL0d3Yb1V6aivbIuQ</td>\n",
       "      <td>0</td>\n",
       "      <td>0</td>\n",
       "      <td>0</td>\n",
       "    </tr>\n",
       "    <tr>\n",
       "      <th>2</th>\n",
       "      <td>6oRAC4uyJCsJl1X0WZpVSA</td>\n",
       "      <td>2012-06-14</td>\n",
       "      <td>IESLBzqUCLdSzSqm0eCSxQ</td>\n",
       "      <td>4</td>\n",
       "      <td>love the gyro plate. Rice is so good and I als...</td>\n",
       "      <td>review</td>\n",
       "      <td>0hT2KtfLiobPvh6cDC8JQg</td>\n",
       "      <td>0</td>\n",
       "      <td>1</td>\n",
       "      <td>0</td>\n",
       "    </tr>\n",
       "    <tr>\n",
       "      <th>3</th>\n",
       "      <td>_1QQZuf4zZOyFCvXc0o6Vg</td>\n",
       "      <td>2010-05-27</td>\n",
       "      <td>G-WvGaISbqqaMHlNnByodA</td>\n",
       "      <td>5</td>\n",
       "      <td>Rosie, Dakota, and I LOVE Chaparral Dog Park!!...</td>\n",
       "      <td>review</td>\n",
       "      <td>uZetl9T0NcROGOyFfughhg</td>\n",
       "      <td>1</td>\n",
       "      <td>2</td>\n",
       "      <td>0</td>\n",
       "    </tr>\n",
       "    <tr>\n",
       "      <th>4</th>\n",
       "      <td>6ozycU1RpktNG2-1BroVtw</td>\n",
       "      <td>2012-01-05</td>\n",
       "      <td>1uJFq2r5QfJG_6ExMRCaGw</td>\n",
       "      <td>5</td>\n",
       "      <td>General Manager Scott Petello is a good egg!!!...</td>\n",
       "      <td>review</td>\n",
       "      <td>vYmM4KTsC8ZfQBg-j5MWkw</td>\n",
       "      <td>0</td>\n",
       "      <td>0</td>\n",
       "      <td>0</td>\n",
       "    </tr>\n",
       "  </tbody>\n",
       "</table>\n",
       "</div>"
      ],
      "text/plain": [
       "              business_id        date               review_id  stars  \\\n",
       "0  9yKzy9PApeiPPOUJEtnvkg  2011-01-26  fWKvX83p0-ka4JS3dc6E5A      5   \n",
       "1  ZRJwVLyzEJq1VAihDhYiow  2011-07-27  IjZ33sJrzXqU-0X6U8NwyA      5   \n",
       "2  6oRAC4uyJCsJl1X0WZpVSA  2012-06-14  IESLBzqUCLdSzSqm0eCSxQ      4   \n",
       "3  _1QQZuf4zZOyFCvXc0o6Vg  2010-05-27  G-WvGaISbqqaMHlNnByodA      5   \n",
       "4  6ozycU1RpktNG2-1BroVtw  2012-01-05  1uJFq2r5QfJG_6ExMRCaGw      5   \n",
       "\n",
       "                                                text    type  \\\n",
       "0  My wife took me here on my birthday for breakf...  review   \n",
       "1  I have no idea why some people give bad review...  review   \n",
       "2  love the gyro plate. Rice is so good and I als...  review   \n",
       "3  Rosie, Dakota, and I LOVE Chaparral Dog Park!!...  review   \n",
       "4  General Manager Scott Petello is a good egg!!!...  review   \n",
       "\n",
       "                  user_id  cool  useful  funny  \n",
       "0  rLtl8ZkDX5vH5nAx9C3q5Q     2       5      0  \n",
       "1  0a2KyEL0d3Yb1V6aivbIuQ     0       0      0  \n",
       "2  0hT2KtfLiobPvh6cDC8JQg     0       1      0  \n",
       "3  uZetl9T0NcROGOyFfughhg     1       2      0  \n",
       "4  vYmM4KTsC8ZfQBg-j5MWkw     0       0      0  "
      ]
     },
     "execution_count": 18,
     "metadata": {},
     "output_type": "execute_result"
    }
   ],
   "source": [
    "df = pd.read_csv(data_dir + 'yelp.csv')\n",
    "df.head()"
   ]
  },
  {
   "cell_type": "markdown",
   "id": "39802a80",
   "metadata": {},
   "source": [
    "Now we also want to have a careful look at those labels. Note that we overwrite the previous ``df`` as we stored it in train and test splits, and we do not want to keep big dataframe objects in memory if they are unused."
   ]
  },
  {
   "cell_type": "code",
   "execution_count": 19,
   "id": "b3396eb1",
   "metadata": {},
   "outputs": [
    {
     "data": {
      "text/plain": [
       "<AxesSubplot:>"
      ]
     },
     "execution_count": 19,
     "metadata": {},
     "output_type": "execute_result"
    },
    {
     "data": {
      "image/png": "[encoded data removed]",
      "text/plain": [
       "<Figure size 432x288 with 1 Axes>"
      ]
     },
     "metadata": {
      "needs_background": "light"
     },
     "output_type": "display_data"
    }
   ],
   "source": [
    "plot = df.stars.hist()"
   ]
  },
  {
   "cell_type": "markdown",
   "id": "89c29519",
   "metadata": {},
   "source": [
    "As you can see, the data has mostly positive labels. Before we proceed, we have to talk about what this set has to do with sentiment prediction. There are no labels for positive and negative, right? It turns out that (unsurprisingly) review scores are actually a good proxy for sentiment recognition!\n",
    "\n",
    "However, we will have to push these scores to positive/negative somehow. Given the uneven label distribution, we might want to make a selection for this binary task specifically. Firstly, we replace items in the column stars by values we provide (either 1, -1, or 0). In this encoding, one will be positive, zero will be negative, and we will use -1 as an identifier for the rows we want to delete. In the next line, we first locate all the rows where df.stars is -1, and get their index (drop needs indices). Both replace and drop will be done ``inplace`` so no need to do a ``df =`` there."
   ]
  },
  {
   "cell_type": "code",
   "execution_count": 20,
   "id": "771c11bf",
   "metadata": {},
   "outputs": [],
   "source": [
    "df.replace({\"stars\": {5: 1, 4: -1, 3: -1, 2: 0, 1: 0}}, inplace=True)\n",
    "df.drop(df.loc[df.stars == -1].index, inplace=True)"
   ]
  },
  {
   "cell_type": "markdown",
   "id": "e073134b",
   "metadata": {},
   "source": [
    "Now we can put them in separate train and test splits, which we want to store separately because this will be our data to test generalization. We will therefore prepend them with an underscore:"
   ]
  },
  {
   "cell_type": "code",
   "execution_count": 21,
   "id": "d61e9e13",
   "metadata": {},
   "outputs": [],
   "source": [
    "_X_train, _X_test, _y_train, _y_test = train_test_split(df.text, df.stars, stratify=df.stars, random_state=42)"
   ]
  },
  {
   "cell_type": "markdown",
   "id": "fea10cbc",
   "metadata": {},
   "source": [
    "You can see that our test set is not extremely imbalanced:"
   ]
  },
  {
   "cell_type": "code",
   "execution_count": 22,
   "id": "fb594e94",
   "metadata": {},
   "outputs": [
    {
     "data": {
      "text/plain": [
       "array([[<AxesSubplot:title={'center':'stars'}>]], dtype=object)"
      ]
     },
     "execution_count": 22,
     "metadata": {},
     "output_type": "execute_result"
    },
    {
     "data": {
      "image/png": "[encoded data removed]",
      "text/plain": [
       "<Figure size 432x288 with 1 Axes>"
      ]
     },
     "metadata": {
      "needs_background": "light"
     },
     "output_type": "display_data"
    }
   ],
   "source": [
    "pd.DataFrame(_y_test).hist()"
   ]
  },
  {
   "cell_type": "markdown",
   "id": "92bcc9fc",
   "metadata": {},
   "source": [
    "Now, let us again determine how difficult this task is with a simple Logistic Regression baseline:"
   ]
  },
  {
   "cell_type": "code",
   "execution_count": 23,
   "id": "6b42f669",
   "metadata": {},
   "outputs": [
    {
     "name": "stdout",
     "output_type": "stream",
     "text": [
      "              precision    recall  f1-score   support\n",
      "\n",
      "           0       0.93      0.75      0.83       419\n",
      "           1       0.88      0.97      0.93       835\n",
      "\n",
      "    accuracy                           0.90      1254\n",
      "   macro avg       0.91      0.86      0.88      1254\n",
      "weighted avg       0.90      0.90      0.89      1254\n",
      "\n",
      "              precision    recall  f1-score   support\n",
      "\n",
      "           0       0.00      0.00      0.00       419\n",
      "           1       0.67      1.00      0.80       835\n",
      "\n",
      "    accuracy                           0.67      1254\n",
      "   macro avg       0.33      0.50      0.40      1254\n",
      "weighted avg       0.44      0.67      0.53      1254\n",
      "\n"
     ]
    },
    {
     "name": "stderr",
     "output_type": "stream",
     "text": [
      "C:\\Users\\20214772\\Anaconda3\\lib\\site-packages\\sklearn\\metrics\\_classification.py:1245: UndefinedMetricWarning: Precision and F-score are ill-defined and being set to 0.0 in labels with no predicted samples. Use `zero_division` parameter to control this behavior.\n",
      "  _warn_prf(average, modifier, msg_start, len(result))\n",
      "C:\\Users\\20214772\\Anaconda3\\lib\\site-packages\\sklearn\\metrics\\_classification.py:1245: UndefinedMetricWarning: Precision and F-score are ill-defined and being set to 0.0 in labels with no predicted samples. Use `zero_division` parameter to control this behavior.\n",
      "  _warn_prf(average, modifier, msg_start, len(result))\n",
      "C:\\Users\\20214772\\Anaconda3\\lib\\site-packages\\sklearn\\metrics\\_classification.py:1245: UndefinedMetricWarning: Precision and F-score are ill-defined and being set to 0.0 in labels with no predicted samples. Use `zero_division` parameter to control this behavior.\n",
      "  _warn_prf(average, modifier, msg_start, len(result))\n"
     ]
    }
   ],
   "source": [
    "cv = TfidfVectorizer()\n",
    "lr = LogisticRegression(max_iter=1000, random_state=42)\n",
    "lr.fit(cv.fit_transform(_X_train), _y_train)\n",
    "_y_pred = lr.predict(cv.transform(_X_test))\n",
    "print(classification_report(_y_test, _y_pred))\n",
    "print(classification_report(_y_test, len(_y_pred) * [1]))"
   ]
  },
  {
   "cell_type": "markdown",
   "id": "6bd71fc3",
   "metadata": {},
   "source": [
    "If we input the same random_states, this model should report an accuracy of about 90%, and the baseline is 67%. The F1 scores for LR are also significantly higher. Anyways, good news! We can actually predict if something gets a low or a high score. Finally, let us prepare our Twitter data. This is actually a dictionary / JSON file in the following code, but it is stored in a pickle format, which is a binary image of the Python object. We simply load it, select the entries we want: ``texts`` and ``labels`` (the latter of which is under ``info``) and put that in a DataFrame."
   ]
  },
  {
   "cell_type": "code",
   "execution_count": 25,
   "id": "3cdfcf20",
   "metadata": {},
   "outputs": [
    {
     "data": {
      "text/html": [
       "<div>\n",
       "<style scoped>\n",
       "    .dataframe tbody tr th:only-of-type {\n",
       "        vertical-align: middle;\n",
       "    }\n",
       "\n",
       "    .dataframe tbody tr th {\n",
       "        vertical-align: top;\n",
       "    }\n",
       "\n",
       "    .dataframe thead th {\n",
       "        text-align: right;\n",
       "    }\n",
       "</style>\n",
       "<table border=\"1\" class=\"dataframe\">\n",
       "  <thead>\n",
       "    <tr style=\"text-align: right;\">\n",
       "      <th></th>\n",
       "      <th>texts</th>\n",
       "      <th>labels</th>\n",
       "    </tr>\n",
       "  </thead>\n",
       "  <tbody>\n",
       "    <tr>\n",
       "      <th>0</th>\n",
       "      <td>Listening to the \"New Age\" station on @Slacker...</td>\n",
       "      <td>1</td>\n",
       "    </tr>\n",
       "    <tr>\n",
       "      <th>1</th>\n",
       "      <td>i didnt mean knee high I ment in lengt it goes...</td>\n",
       "      <td>1</td>\n",
       "    </tr>\n",
       "    <tr>\n",
       "      <th>2</th>\n",
       "      <td>I wana see the vid Kyan</td>\n",
       "      <td>1</td>\n",
       "    </tr>\n",
       "    <tr>\n",
       "      <th>3</th>\n",
       "      <td>if my mom went on for the love of ray J or any...</td>\n",
       "      <td>0</td>\n",
       "    </tr>\n",
       "    <tr>\n",
       "      <th>4</th>\n",
       "      <td>@Mrhilton1985 Welcome to Twitter xx</td>\n",
       "      <td>1</td>\n",
       "    </tr>\n",
       "    <tr>\n",
       "      <th>5</th>\n",
       "      <td>@kjbmusic oh yeah... however, I'd still like t...</td>\n",
       "      <td>1</td>\n",
       "    </tr>\n",
       "    <tr>\n",
       "      <th>6</th>\n",
       "      <td>I need a nice tea-drinking pic for our #Tea Cl...</td>\n",
       "      <td>1</td>\n",
       "    </tr>\n",
       "    <tr>\n",
       "      <th>7</th>\n",
       "      <td>@JonathanRKnight so twitpic it lol, I love Hom...</td>\n",
       "      <td>1</td>\n",
       "    </tr>\n",
       "    <tr>\n",
       "      <th>8</th>\n",
       "      <td>@BarCough it's enough to make you sick, eh? th...</td>\n",
       "      <td>0</td>\n",
       "    </tr>\n",
       "    <tr>\n",
       "      <th>9</th>\n",
       "      <td>\"Iran, with its unity and God's grace, will pu...</td>\n",
       "      <td>0</td>\n",
       "    </tr>\n",
       "  </tbody>\n",
       "</table>\n",
       "</div>"
      ],
      "text/plain": [
       "                                               texts  labels\n",
       "0  Listening to the \"New Age\" station on @Slacker...       1\n",
       "1  i didnt mean knee high I ment in lengt it goes...       1\n",
       "2                            I wana see the vid Kyan       1\n",
       "3  if my mom went on for the love of ray J or any...       0\n",
       "4                @Mrhilton1985 Welcome to Twitter xx       1\n",
       "5  @kjbmusic oh yeah... however, I'd still like t...       1\n",
       "6  I need a nice tea-drinking pic for our #Tea Cl...       1\n",
       "7  @JonathanRKnight so twitpic it lol, I love Hom...       1\n",
       "8  @BarCough it's enough to make you sick, eh? th...       0\n",
       "9  \"Iran, with its unity and God's grace, will pu...       0"
      ]
     },
     "execution_count": 25,
     "metadata": {},
     "output_type": "execute_result"
    }
   ],
   "source": [
    "import pickle\n",
    "\n",
    "data = pickle.load(open(data_dir + 'twitter.pickle', 'rb'))\n",
    "df = pd.DataFrame({'texts': data['texts'], 'labels': [x['label'] for x in data['info']]})\n",
    "df.head(10)"
   ]
  },
  {
   "cell_type": "code",
   "execution_count": 26,
   "id": "40c8fd96",
   "metadata": {},
   "outputs": [
    {
     "data": {
      "text/plain": [
       "<AxesSubplot:>"
      ]
     },
     "execution_count": 26,
     "metadata": {},
     "output_type": "execute_result"
    },
    {
     "data": {
      "image/png": "[encoded data removed]",
      "text/plain": [
       "<Figure size 432x288 with 1 Axes>"
      ]
     },
     "metadata": {
      "needs_background": "light"
     },
     "output_type": "display_data"
    }
   ],
   "source": [
    "plot = df.labels.hist()"
   ]
  },
  {
   "cell_type": "markdown",
   "id": "fb985aa4",
   "metadata": {},
   "source": [
    "The label distribution looks close to what we also found in our Tweets, promising! Let us run a final baseline:"
   ]
  },
  {
   "cell_type": "code",
   "execution_count": 27,
   "id": "859a64c3",
   "metadata": {},
   "outputs": [
    {
     "name": "stdout",
     "output_type": "stream",
     "text": [
      "              precision    recall  f1-score   support\n",
      "\n",
      "           0       0.73      0.43      0.54       216\n",
      "           1       0.69      0.89      0.78       313\n",
      "\n",
      "    accuracy                           0.70       529\n",
      "   macro avg       0.71      0.66      0.66       529\n",
      "weighted avg       0.71      0.70      0.68       529\n",
      "\n",
      "              precision    recall  f1-score   support\n",
      "\n",
      "           0       0.00      0.00      0.00       216\n",
      "           1       0.59      1.00      0.74       313\n",
      "\n",
      "    accuracy                           0.59       529\n",
      "   macro avg       0.30      0.50      0.37       529\n",
      "weighted avg       0.35      0.59      0.44       529\n",
      "\n"
     ]
    },
    {
     "name": "stderr",
     "output_type": "stream",
     "text": [
      "C:\\Users\\20214772\\Anaconda3\\lib\\site-packages\\sklearn\\metrics\\_classification.py:1245: UndefinedMetricWarning: Precision and F-score are ill-defined and being set to 0.0 in labels with no predicted samples. Use `zero_division` parameter to control this behavior.\n",
      "  _warn_prf(average, modifier, msg_start, len(result))\n",
      "C:\\Users\\20214772\\Anaconda3\\lib\\site-packages\\sklearn\\metrics\\_classification.py:1245: UndefinedMetricWarning: Precision and F-score are ill-defined and being set to 0.0 in labels with no predicted samples. Use `zero_division` parameter to control this behavior.\n",
      "  _warn_prf(average, modifier, msg_start, len(result))\n",
      "C:\\Users\\20214772\\Anaconda3\\lib\\site-packages\\sklearn\\metrics\\_classification.py:1245: UndefinedMetricWarning: Precision and F-score are ill-defined and being set to 0.0 in labels with no predicted samples. Use `zero_division` parameter to control this behavior.\n",
      "  _warn_prf(average, modifier, msg_start, len(result))\n"
     ]
    }
   ],
   "source": [
    "X_train, X_test, y_train, y_test = train_test_split(df.texts, df.labels, stratify=df.labels, random_state=42)\n",
    "cv = TfidfVectorizer()\n",
    "lr = LogisticRegression(max_iter=1000, random_state=42)\n",
    "lr.fit(cv.fit_transform(X_train), y_train)\n",
    "y_pred = lr.predict(cv.transform(X_test))\n",
    "print(classification_report(y_test, y_pred))\n",
    "print(classification_report(y_test, len(y_pred) * [1]))"
   ]
  },
  {
   "cell_type": "markdown",
   "id": "d87332ea",
   "metadata": {},
   "source": [
    "The Logistic Regression does not improve the Majority Baseline significantly: 10% the accuracy and 30% the F1 score, which is actually a good increase, but the final score is not that impressive. Therefore, there is plenty of room for tackling this task properly.\n",
    "\n",
    "### Experimental Set-up\n",
    "So far, we have only been pre-exploring data and ran some simple baselines. It is time to think about our experimental setup. How are we going to use this out-of-domain set to assess generalization? We can use the scores we obtained in the previous part to see how well our Twitter dataset generalizes. We will take the classification scores on that set, the Yelp dataset, and then see how far performance drops of the Twitter sentiment classifier to the Yelp dataset. Note that we purposefully ran models as baselines (in addition to the majority baseline), so we have a rough estimate of how an optimized pipeline should at the very least be expected to perform on this data. \n",
    "\n",
    "We would describe what models we run, which hyper-parameters we tune, what evaluations we use, etc. For the sake of simplicity, we will use ``tf*idf`` features, Logistic Regression, and evaluate our models on F1 score (as the sets are slightly unbalanced). We will run a grid search procedure to fine-tune some parameters and evaluate the best setting using 10-fold cross-validation.\n",
    "\n",
    "If we were to look at more models, nested cross-validation would be more appropriate. The potential models we apply should be simple. If you want to use other models such as Multinomial Naive Bayes or and k-Nearest Neighbors, feel free to change the code below.\n",
    "\n",
    "#### Tuning with Grid Search\n",
    "First, we will define a pipeline. This is a scikit-learn component that makes it convenient to change multiple components together. We can simply call ``pipeline.fit(some_data)`` and it will run all the components in order. We define it as such:"
   ]
  },
  {
   "cell_type": "code",
   "execution_count": 29,
   "id": "a84f9bb2",
   "metadata": {},
   "outputs": [],
   "source": [
    "from sklearn.pipeline import Pipeline\n",
    "from sklearn.feature_extraction.text import CountVectorizer\n",
    "from sklearn.feature_extraction.text import TfidfTransformer\n",
    "\n",
    "pipeline = Pipeline([\n",
    "                    ('cv', CountVectorizer()),\n",
    "                    ('tf', TfidfTransformer()),\n",
    "                    ('lr', LogisticRegression(random_state=42)),\n",
    "                    ])"
   ]
  },
  {
   "cell_type": "markdown",
   "id": "18e49ba4",
   "metadata": {},
   "source": [
    "This also makes it very convenient for grid search because the identifiers (cv, tf, lr) can be used to set parameter ranges:"
   ]
  },
  {
   "cell_type": "code",
   "execution_count": 35,
   "id": "d281c96b",
   "metadata": {},
   "outputs": [],
   "source": [
    "# uncommenting more parameters will give better exploring power but will\n",
    "# increase processing time in a combinatorial way\n",
    "parameters = {\n",
    "    'cv__max_df': (0.5, 0.75, 1.0),\n",
    "    # 'vect__max_features': (None, 5000, 10000, 50000),\n",
    "    'cv__ngram_range': ((1, 1), (1, 2)), # unigrams or bigrams\n",
    "    'tf__use_idf': (True, False),\n",
    "    'tf__norm': ('l1', 'l2'),\n",
    "    # 'lr__max_iter': (1000, ),\n",
    "    'lr__C': (1000, 1000, 10, 1, 0.01, 0.001, 0.0001, 0.00001),\n",
    "    # 'lr__penalty': ('l2', 'none'),\n",
    "}"
   ]
  },
  {
   "cell_type": "markdown",
   "id": "e55a86f7",
   "metadata": {},
   "source": [
    "The syntax here is ``id__parameter_name``. The parameter names can be found under their respective documentation pages. Using both our pipeline and the parameters, we can run a grid search procedure to fine-tune them. This will create a ‘hidden’ development/validation set in the cross-validation of the method itself—**so no need to split it ourselves**."
   ]
  },
  {
   "cell_type": "code",
   "execution_count": 31,
   "id": "fed5956e",
   "metadata": {},
   "outputs": [
    {
     "name": "stdout",
     "output_type": "stream",
     "text": [
      "Fitting 10 folds for each of 192 candidates, totalling 1920 fits\n"
     ]
    },
    {
     "data": {
      "text/plain": [
       "GridSearchCV(cv=10,\n",
       "             estimator=Pipeline(steps=[('cv', CountVectorizer()),\n",
       "                                       ('tf', TfidfTransformer()),\n",
       "                                       ('lr',\n",
       "                                        LogisticRegression(random_state=42))]),\n",
       "             param_grid={'cv__max_df': (0.5, 0.75, 1.0),\n",
       "                         'cv__ngram_range': ((1, 1), (1, 2)),\n",
       "                         'lr__C': (1000, 1000, 10, 1, 0.01, 0.001, 0.0001,\n",
       "                                   1e-05),\n",
       "                         'tf__norm': ('l1', 'l2'),\n",
       "                         'tf__use_idf': (True, False)},\n",
       "             verbose=1)"
      ]
     },
     "execution_count": 31,
     "metadata": {},
     "output_type": "execute_result"
    }
   ],
   "source": [
    "import warnings # to get rid of too much output\n",
    "warnings.filterwarnings(\"ignore\")\n",
    "from sklearn.model_selection import GridSearchCV\n",
    "\n",
    "grid_search = GridSearchCV(pipeline, parameters, cv=10, verbose=1)\n",
    "grid_search.fit(X_train, y_train)"
   ]
  },
  {
   "cell_type": "markdown",
   "id": "124f4bea",
   "metadata": {},
   "source": [
    "Note that we i) set a cross-validation procedure (cv=10) and ii) fit a grid search on our training split. This will automatically figure out the best performing set of parameters (and best model) for us. We can access these attributes as shown below:"
   ]
  },
  {
   "cell_type": "code",
   "execution_count": 32,
   "id": "d64a8d15",
   "metadata": {},
   "outputs": [
    {
     "name": "stdout",
     "output_type": "stream",
     "text": [
      "Best score: 0.7455616591035745\n",
      "\t cv__max_df : 0.5\n",
      "\t cv__ngram_range : (1, 2)\n",
      "\t lr__C : 1000\n",
      "\t tf__norm : l2\n",
      "\t tf__use_idf : True\n"
     ]
    }
   ],
   "source": [
    "print(\"Best score:\", grid_search.best_score_)\n",
    "best_parameters = grid_search.best_estimator_.get_params()\n",
    "for param_name in sorted(parameters.keys()):\n",
    "    print(\"\\t\", param_name, \":\", best_parameters[param_name])"
   ]
  },
  {
   "cell_type": "markdown",
   "id": "c1a1bfbb",
   "metadata": {},
   "source": [
    "This will give us the score of the best-performing model and its hyper-parameters. Finally, we can extract that model from the grid search pipeline, and either re-fit it on the entire training dataset or immediately apply it to the test set:"
   ]
  },
  {
   "cell_type": "code",
   "execution_count": 33,
   "id": "472415b5",
   "metadata": {},
   "outputs": [
    {
     "name": "stdout",
     "output_type": "stream",
     "text": [
      "              precision    recall  f1-score   support\n",
      "\n",
      "           0       0.71      0.61      0.65       216\n",
      "           1       0.75      0.83      0.79       313\n",
      "\n",
      "    accuracy                           0.74       529\n",
      "   macro avg       0.73      0.72      0.72       529\n",
      "weighted avg       0.73      0.74      0.73       529\n",
      "\n"
     ]
    }
   ],
   "source": [
    "clf = grid_search.best_estimator_\n",
    "y_pred = clf.predict(X_test)\n",
    "print(classification_report(y_test, y_pred))"
   ]
  },
  {
   "cell_type": "markdown",
   "id": "241f0e5e",
   "metadata": {},
   "source": [
    "After about five minutes, it should be done fitting (if you kept the original grid), and we know if our tuned model performs better than our naive ``tf*idf`` + LR baseline. Overall it should be about 5% better on all metrics. Not too shabby for only a few parameters and one model!\n",
    "\n",
    "**Important note.** Grid search is a time-intensive procedure and it can take a while depending on the hardware you have. Therefore, it might be the case that it takes longer than five minutes, as mentioned above. Patience is advised.\n",
    "\n",
    "#### Domain Generalization\n",
    "In the next step, we will explore how well our model generalizes to another domain (from Twitter data to Yelp data). Remember that we had saved them in ``_X_test`` and ``_y_test``, so these pieces of data can be used at any time."
   ]
  },
  {
   "cell_type": "code",
   "execution_count": 34,
   "id": "d1a66410",
   "metadata": {},
   "outputs": [
    {
     "name": "stdout",
     "output_type": "stream",
     "text": [
      "              precision    recall  f1-score   support\n",
      "\n",
      "           0       0.60      0.69      0.64       419\n",
      "           1       0.83      0.77      0.80       835\n",
      "\n",
      "    accuracy                           0.75      1254\n",
      "   macro avg       0.72      0.73      0.72      1254\n",
      "weighted avg       0.76      0.75      0.75      1254\n",
      "\n"
     ]
    }
   ],
   "source": [
    "_y_pred = clf.predict(_X_test)\n",
    "print(classification_report(_y_test, _y_pred))"
   ]
  },
  {
   "cell_type": "markdown",
   "id": "b1b49d60",
   "metadata": {},
   "source": [
    "We can notice that we obtain similar performance on Yelp as on our test set! Although definitely lower than the Yelp model itself, this is a very promising result. Now, we can spend all our future research time collecting more emoji data, experimenting with different models, investigating the learned features, comparing the dataset with some descriptives, etc. However, that’s all for this practical."
   ]
  },
  {
   "cell_type": "markdown",
   "id": "a84502f4",
   "metadata": {},
   "source": [
    "**Interesting note.** This practical is related to a popular research sub-field in machine learning known as **transfer learning**. Such a sub-field focuses on storing knowledge gained while solving one problem and applying it to a different but related problem. For example, knowledge gained while learning to recognize cars could apply when trying to recognize trucks. This area of research bears some relation to the long history of psychological literature on transfer learning, although practical ties between the two fields are limited. "
   ]
  },
  {
   "cell_type": "code",
   "execution_count": null,
   "id": "1a62963b",
   "metadata": {},
   "outputs": [],
   "source": []
  }
 ],
 "metadata": {
  "kernelspec": {
   "display_name": "Python 3",
   "language": "python",
   "name": "python3"
  },
  "language_info": {
   "codemirror_mode": {
    "name": "ipython",
    "version": 3
   },
   "file_extension": ".py",
   "mimetype": "text/x-python",
   "name": "python",
   "nbconvert_exporter": "python",
   "pygments_lexer": "ipython3",
   "version": "3.8.8"
  }
 },
 "nbformat": 4,
 "nbformat_minor": 5
}
